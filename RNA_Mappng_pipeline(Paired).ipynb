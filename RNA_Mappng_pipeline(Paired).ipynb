{
 "cells": [
  {
   "cell_type": "code",
   "execution_count": 11,
   "metadata": {},
   "outputs": [],
   "source": [
    "import os\n",
    "from os import listdir"
   ]
  },
  {
   "cell_type": "code",
   "execution_count": 8,
   "metadata": {},
   "outputs": [],
   "source": [
    "####### STEP 1. set up parameters for mapping #######\n",
    "# Create a project folder and under /mnt/BioAdHoc/Groups/\n",
    "# With in the project older, generate a folder called Fastq_Paired, and move all paired-end fastq files here: Note - do not put fastq files in sub folders\n",
    "\n",
    "thread = 4\n",
    "# name of samples: unique sample names without appendix \"_RX_001.fastq.gz\"\n",
    "samples = list(set(x.split('.')[0][:-7] for x in listdir('./Fastq_Paired/')))\n",
    "# wehre to export the bash files for submission - relative directory from this notebook\n",
    "# !! Make sure this dir is located on the server\n",
    "os.system('mkdir -p Submissions')\n",
    "\n",
    "## Directory defined below are absolute directory on the server\n",
    "# directory where the project root is located\n",
    "dirin = '/mnt/BioAdHoc/Groups/vd-vijay/ndu/RSS_113_AsthmaAirways'\n",
    "# directory where temperatory files are located\n",
    "temp_dir = '/mnt/BioScratch/ndu/asthma_airway'\n",
    "# directory where reference files are located\n",
    "ref_dir = '/home/ndu/bioinfo/Reference/STAR-GRCh37_gencode_v19'\n",
    "gtf_dir = '/home/ndu/bioinfo/Reference/GRCh37.p13.gencode.r19/gencode.v19.annotation.gtf'\n"
   ]
  },
  {
   "cell_type": "code",
   "execution_count": 9,
   "metadata": {},
   "outputs": [],
   "source": [
    "####### STEP 2. generate bash scripts for submission #######\n",
    "\n",
    "for sample in samples:\n",
    "    fastq_f = sample+'_R1_001.fastq.gz'\n",
    "    fastq_r = sample+'_R2_001.fastq.gz'\n",
    "    with open(f'Submissions/{sample}.sh','w') as f:\n",
    "        f.write(f'#!/bin/bash\\n#PBS -N {sample}\\n#PBS -o {temp_dir}/out_{sample}\\n#PBS -e {temp_dir}/err_{sample}\\n#PBS -q default\\n#PBS -l nodes=1:ppn={thread}\\n#PBS -l mem=40gb\\n#PBS -l walltime=10:00:00\\ncd {dirin}/\\nmkdir -p {temp_dir}\\nmkdir -p fastp_output\\nmkdir -p Fastq_filtered\\n\\n')\n",
    "        # fastp\n",
    "        f.write(f'/mnt/BioHome/ndu/anaconda3/bin/fastp -w {thread} -i {dirin}/Fastq_Paired/{fastq_f} -I {dirin}/Fastq_Paired/{fastq_r} -o {dirin}/Fastq_filtered/{fastq_f} -O {dirin}/Fastq_filtered/{fastq_r} -j {dirin}/fastp_output/{sample}_fastp.json\\n')\n",
    "        # STAR_MAPPING\n",
    "        f.write(f'mkdir -p {dirin}/bam_aligned/{sample}\\n')\n",
    "        f.write(f'/mnt/BioHome/ndu/anaconda3/bin/STAR --runThreadN {thread} --genomeDir {ref_dir} --sjdbGTFfile {gtf_dir} --readFilesIn {dirin}/Fastq_filtered/{fastq_f} {dirin}/Fastq_filtered/{fastq_r} --readFilesCommand zcat --outFileNamePrefix {dirin}/bam_aligned/{sample}/{sample}_\\n')\n",
    "        \n",
    "\n",
    "with open('Submissions.sh','w') as f:    \n",
    "    for submission in listdir('Submissions/'):        \n",
    "        f.write(f'qsub ./Submissions/{submission}\\n')\n",
    "\n",
    "# Login herman server, go to project folder, and bash Submission.sh      "
   ]
  },
  {
   "cell_type": "code",
   "execution_count": 5,
   "metadata": {},
   "outputs": [],
   "source": [
    "####### STEP 3. featureCount - wait unit all submitted tasks have been completed #######\n",
    "\n",
    "thread = 4\n",
    "\n",
    "\n",
    "# max_samples_per_group : n - do not change\n",
    "n = 20\n",
    "samples = [f'{dirin}/bam_aligned/{sample}/{sample}_Aligned.out.sam' for sample in os.listdir('./bam_aligned/')]\n",
    "sample_list = [samples[i * n:(i + 1) * n] for i in range((len(samples) + n - 1) // n )]\n",
    "for i,sample_set in enumerate(sample_list):\n",
    "    with open(f'featurecount_{i}.sh','w') as f:\n",
    "        f.write(f'#!/bin/bash\\n#PBS -N count_STAR_{i}\\n#PBS -o {temp_dir}/out_count_STAR_{i}\\n#PBS -e {temp_dir}/err_count_STAR_{i}\\n#PBS -q default\\n#PBS -l nodes=1:ppn={thread}\\n#PBS -l mem=40gb\\n#PBS -l walltime=10:00:00\\ncd {dirin}\\nmkdir -p counts\\n\\n')\n",
    "        samfiles = ' '.join(sample_set)\n",
    "        f.write(f'/mnt/BioHome/ndu/tools/subread-1.6.5-Linux-x86_64/bin/featureCounts -T {thread} -s 0 -M -p -B -C -t gene -g gene_id -a {gtf_dir} -o counts/count_table_{i}.csv {samfiles}')\n",
    "\n",
    "# -M allow multiple mapping\n",
    "# -p paired end reads\n",
    "# -C countChimericFragments If specified, the chimeric fragments (those fragments that have their two ends aligned to different chromosomes) will NOT be counted\n",
    "# -B requireBothEndsMapped\n",
    "# -O allowMultiOverlap\n",
    "# −−donotsort 1/autosort\n",
    "# -s 0 unstranded\n",
    "\n",
    "# Login herman server, go to project folder, and qsub all featurecount.sh      "
   ]
  },
  {
   "cell_type": "code",
   "execution_count": 10,
   "metadata": {},
   "outputs": [],
   "source": [
    "####### STEP 4. Multiqc - wait until featureCount has bben completed;  generate table and figures for QC + cal TPM #######\n",
    "\n",
    "thread = 1\n",
    "\n",
    "\n",
    "with open(f'multiqc.sh','w') as f:\n",
    "    f.write(f'#!/bin/bash\\n#PBS -N multiqc\\n#PBS -o {temp_dir}/out_multiqc\\n#PBS -e {temp_dir}/err_multiqc\\n#PBS -q default\\n#PBS -l nodes=1:ppn={thread}\\n#PBS -l mem=40gb\\n#PBS -l walltime=10:00:00\\ncd {dirin}\\n\\n')\n",
    "    f.write('python /mnt/BioHome/ndu/tools/cal_TPM.py')\n",
    "    f.write('/mnt/BioHome/ndu/.local/bin/multiqc . --cl_config max_table_rows:1000')\n",
    "    \n",
    "# Login herman server, go to project folder, and qsub multiqc.sh "
   ]
  },
  {
   "cell_type": "code",
   "execution_count": null,
   "metadata": {},
   "outputs": [],
   "source": [
    "# Remove submission files after everything completed\n",
    "!rm -r Submissions/\n",
    "!rm *.sh"
   ]
  }
 ],
 "metadata": {
  "kernelspec": {
   "display_name": "Python 3",
   "language": "python",
   "name": "python3"
  },
  "language_info": {
   "codemirror_mode": {
    "name": "ipython",
    "version": 3
   },
   "file_extension": ".py",
   "mimetype": "text/x-python",
   "name": "python",
   "nbconvert_exporter": "python",
   "pygments_lexer": "ipython3",
   "version": "3.7.3"
  }
 },
 "nbformat": 4,
 "nbformat_minor": 2
}
